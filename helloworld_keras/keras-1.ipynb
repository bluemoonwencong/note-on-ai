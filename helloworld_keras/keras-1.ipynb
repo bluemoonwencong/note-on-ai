{
 "cells": [
  {
   "cell_type": "markdown",
   "metadata": {},
   "source": [
    "掘金，keras源码分析\n",
    "https://juejin.im/search?query=keras%E6%BA%90%E7%A0%81%E5%88%86%E6%9E%90\n"
   ]
  },
  {
   "cell_type": "code",
   "execution_count": 1,
   "metadata": {},
   "outputs": [
    {
     "name": "stderr",
     "output_type": "stream",
     "text": [
      "Using TensorFlow backend.\n"
     ]
    }
   ],
   "source": [
    "from __future__ import print_function\n",
    "import keras\n",
    "import keras.backend as K\n",
    "from keras.datasets import cifar100\n",
    "from keras.preprocessing.image import ImageDataGenerator\n",
    "from keras.models import Sequential\n",
    "from keras.layers import Dense, Dropout, Activation, Flatten\n",
    "from keras.layers import Conv2D, MaxPooling2D\n",
    "import os\n"
   ]
  },
  {
   "cell_type": "code",
   "execution_count": 2,
   "metadata": {},
   "outputs": [],
   "source": [
    "# 设置\n",
    "batch_size = 512\n",
    "num_classes = 100\n",
    "epochs = 50\n",
    "data_augmentation = False\n",
    "num_predictions = 20\n"
   ]
  },
  {
   "cell_type": "code",
   "execution_count": 3,
   "metadata": {},
   "outputs": [
    {
     "name": "stdout",
     "output_type": "stream",
     "text": [
      "x_train shape: (50000, 32, 32, 3)\n",
      "50000 train samples\n",
      "10000 test samples\n"
     ]
    }
   ],
   "source": [
    "# 导入数据\n",
    "# (x_train, y_train), (x_test, y_test) = cifar100.load_data()\n",
    "from six.moves import cPickle\n",
    "def load_cifar100_my(path):\n",
    "    with open(os.path.join(os.getcwd(),path), 'rb') as f:\n",
    "        d = cPickle.load(f, encoding='bytes')\n",
    "        d_decoded = {}\n",
    "        for k, v in d.items():\n",
    "            d_decoded[k.decode('utf8')] = v\n",
    "            d = d_decoded\n",
    "        data = d['data']\n",
    "        labels = d['fine_labels']\n",
    "        data = data.reshape(data.shape[0], 3, 32, 32)\n",
    "        data = data.transpose(0,2,3,1)\n",
    "    return data, labels\n",
    "x_train, y_train = load_cifar100_my(r'data\\cifar-100-python\\train')\n",
    "x_test , y_test  = load_cifar100_my(r'data\\cifar-100-python\\test')\n",
    "print('x_train shape:', x_train.shape)\n",
    "print(x_train.shape[0], 'train samples')\n",
    "print(x_test.shape[0], 'test samples')\n",
    "\n",
    "# 数据预处理\n",
    "x_train = x_train.astype('float32')\n",
    "x_test = x_test.astype('float32')\n",
    "x_train /= 255\n",
    "x_test /= 255\n",
    "# Convert class vectors to binary class matrices.\n",
    "y_train = keras.utils.to_categorical(y_train, num_classes)\n",
    "y_test = keras.utils.to_categorical(y_test, num_classes)\n",
    "\n",
    "# x_train = x_train.astype('float16')\n",
    "# x_test  = x_test.astype('float16')\n",
    "# y_train = y_train.astype('float16')\n",
    "# y_test  = y_test.astype('float16')\n"
   ]
  },
  {
   "cell_type": "code",
   "execution_count": 4,
   "metadata": {},
   "outputs": [
    {
     "name": "stdout",
     "output_type": "stream",
     "text": [
      "(50000, 100)\n",
      "float32\n"
     ]
    }
   ],
   "source": [
    "print(y_train.shape)\n",
    "print(y_train.dtype)\n",
    "x_train.shape[1:]"
   ]
  },
  {
   "cell_type": "code",
   "execution_count": 5,
   "metadata": {},
   "outputs": [
    {
     "data": {
      "text/plain": [
       "<Figure size 100x100 with 1 Axes>"
      ]
     },
     "metadata": {},
     "output_type": "display_data"
    }
   ],
   "source": [
    "# 查看数据\n",
    "import matplotlib.pyplot as plt\n",
    "plt.figure(figsize=(1,1))\n",
    "plt.imshow(x_train[101])\n",
    "plt.axis('off')\n",
    "plt.show()"
   ]
  },
  {
   "cell_type": "code",
   "execution_count": 7,
   "metadata": {},
   "outputs": [],
   "source": [
    "model = Sequential()\n",
    "\n",
    "model.add(Conv2D(32, (3, 3), padding='same', activation='relu',\n",
    "                 input_shape=x_train.shape[1:]))\n",
    "\n",
    "model.add(Conv2D(32, (3, 3), padding='same', activation='relu'))\n",
    "model.add(MaxPooling2D(pool_size=(2, 2)))\n",
    "model.add(Dropout(0.25))\n",
    "\n",
    "model.add(Conv2D(64, (3, 3), padding='same', activation='relu'))\n",
    "model.add(Conv2D(64, (3, 3), padding='same', activation='relu'))\n",
    "model.add(MaxPooling2D(pool_size=(2, 2)))\n",
    "model.add(Dropout(0.25))\n",
    "\n",
    "model.add(Flatten())\n",
    "model.add(Dense(512, activation='relu'))\n",
    "model.add(Dropout(0.5))\n",
    "\n",
    "model.add(Dense(num_classes))\n",
    "model.add(Activation('softmax'))\n"
   ]
  },
  {
   "cell_type": "code",
   "execution_count": 92,
   "metadata": {},
   "outputs": [],
   "source": [
    "import tensorflow as tf"
   ]
  },
  {
   "cell_type": "code",
   "execution_count": null,
   "metadata": {},
   "outputs": [],
   "source": []
  },
  {
   "cell_type": "code",
   "execution_count": null,
   "metadata": {},
   "outputs": [],
   "source": []
  },
  {
   "cell_type": "code",
   "execution_count": null,
   "metadata": {},
   "outputs": [],
   "source": []
  },
  {
   "cell_type": "code",
   "execution_count": 88,
   "metadata": {},
   "outputs": [],
   "source": [
    "# Custom loss and metrics\n",
    "# 如果是多分类多标签呢？\n",
    "def mean_pred(y_true, y_pred):\n",
    "    return K.mean(y_pred)\n",
    "\n",
    "def margin_loss(y_true, y_pred):\n",
    "    lamb, margin = 0.5, 0.1\n",
    "    return K.sum(y_true * K.square(K.relu(1 - margin - y_pred)) + lamb * (\n",
    "        1 - y_true) * K.square(K.relu(y_pred - margin)), axis=-1)"
   ]
  },
  {
   "cell_type": "code",
   "execution_count": 86,
   "metadata": {},
   "outputs": [],
   "source": [
    "# loss, optimizer, metrics\n",
    "\n",
    "loss       = keras.losses.categorical_crossentropy\n",
    "# loss       = keras.losses.mean_squared_error\n",
    "\n",
    "# optimizer  = keras.optimizers.rmsprop(lr=0.0001, decay=1e-6)\n",
    "optimizer  = keras.optimizers.sgd(lr=0.001, decay=1e-6, momentum=0.9, nesterov=True)\n",
    "\n",
    "metrics    = [keras.metrics.categorical_accuracy]\n",
    "# metrics    = [keras.metrics.categorical_accuracy, keras.metrics.mae]\n",
    "\n",
    "model.compile(loss=loss, optimizer=optimizer, metrics=metrics)"
   ]
  },
  {
   "cell_type": "code",
   "execution_count": 91,
   "metadata": {
    "scrolled": false
   },
   "outputs": [
    {
     "name": "stdout",
     "output_type": "stream",
     "text": [
      "Not using data augmentation.\n",
      "Train on 50000 samples, validate on 10000 samples\n",
      "Epoch 1/50\n",
      "50000/50000 [==============================] - 7s 149us/step - loss: 3.7287 - categorical_accuracy: 0.1289 - val_loss: 3.5941 - val_categorical_accuracy: 0.1741\n",
      "Epoch 2/50\n",
      "50000/50000 [==============================] - 7s 141us/step - loss: 3.7204 - categorical_accuracy: 0.1325 - val_loss: 3.5842 - val_categorical_accuracy: 0.1735\n",
      "Epoch 3/50\n",
      "50000/50000 [==============================] - 7s 141us/step - loss: 3.7066 - categorical_accuracy: 0.1360 - val_loss: 3.5725 - val_categorical_accuracy: 0.1739\n",
      "Epoch 4/50\n",
      "50000/50000 [==============================] - 7s 142us/step - loss: 3.6990 - categorical_accuracy: 0.1352 - val_loss: 3.5666 - val_categorical_accuracy: 0.1754\n",
      "Epoch 5/50\n",
      "50000/50000 [==============================] - 7s 141us/step - loss: 3.6879 - categorical_accuracy: 0.1363 - val_loss: 3.5514 - val_categorical_accuracy: 0.1763\n",
      "Epoch 6/50\n",
      "50000/50000 [==============================] - 7s 141us/step - loss: 3.6805 - categorical_accuracy: 0.1388 - val_loss: 3.5440 - val_categorical_accuracy: 0.1772\n",
      "Epoch 7/50\n",
      "50000/50000 [==============================] - 7s 142us/step - loss: 3.6713 - categorical_accuracy: 0.1406 - val_loss: 3.5323 - val_categorical_accuracy: 0.1790\n",
      "Epoch 8/50\n",
      "50000/50000 [==============================] - 7s 142us/step - loss: 3.6609 - categorical_accuracy: 0.1425 - val_loss: 3.5276 - val_categorical_accuracy: 0.1810\n",
      "Epoch 9/50\n",
      "50000/50000 [==============================] - 7s 142us/step - loss: 3.6469 - categorical_accuracy: 0.1423 - val_loss: 3.5097 - val_categorical_accuracy: 0.1837\n",
      "Epoch 10/50\n",
      "50000/50000 [==============================] - 7s 141us/step - loss: 3.6428 - categorical_accuracy: 0.1446 - val_loss: 3.5059 - val_categorical_accuracy: 0.1847\n",
      "Epoch 11/50\n",
      "50000/50000 [==============================] - 7s 142us/step - loss: 3.6308 - categorical_accuracy: 0.1474 - val_loss: 3.4958 - val_categorical_accuracy: 0.1856\n",
      "Epoch 12/50\n",
      "50000/50000 [==============================] - 7s 144us/step - loss: 3.6222 - categorical_accuracy: 0.1492 - val_loss: 3.4903 - val_categorical_accuracy: 0.1877\n",
      "Epoch 13/50\n",
      "50000/50000 [==============================] - 7s 143us/step - loss: 3.6139 - categorical_accuracy: 0.1521 - val_loss: 3.4745 - val_categorical_accuracy: 0.1884\n",
      "Epoch 14/50\n",
      "50000/50000 [==============================] - 7s 146us/step - loss: 3.6085 - categorical_accuracy: 0.1521 - val_loss: 3.4682 - val_categorical_accuracy: 0.1919\n",
      "Epoch 15/50\n",
      "50000/50000 [==============================] - 7s 145us/step - loss: 3.5949 - categorical_accuracy: 0.1521 - val_loss: 3.4597 - val_categorical_accuracy: 0.1918\n",
      "Epoch 16/50\n",
      "50000/50000 [==============================] - 7s 143us/step - loss: 3.5923 - categorical_accuracy: 0.1536 - val_loss: 3.4508 - val_categorical_accuracy: 0.1939\n",
      "Epoch 17/50\n",
      "50000/50000 [==============================] - 7s 143us/step - loss: 3.5800 - categorical_accuracy: 0.1563 - val_loss: 3.4401 - val_categorical_accuracy: 0.1948\n",
      "Epoch 18/50\n",
      "50000/50000 [==============================] - 7s 146us/step - loss: 3.5690 - categorical_accuracy: 0.1588 - val_loss: 3.4292 - val_categorical_accuracy: 0.1965\n",
      "Epoch 19/50\n",
      "50000/50000 [==============================] - 7s 148us/step - loss: 3.5561 - categorical_accuracy: 0.1596 - val_loss: 3.4231 - val_categorical_accuracy: 0.2004\n",
      "Epoch 20/50\n",
      "50000/50000 [==============================] - 7s 147us/step - loss: 3.5550 - categorical_accuracy: 0.1595 - val_loss: 3.4182 - val_categorical_accuracy: 0.2017\n",
      "Epoch 21/50\n",
      "50000/50000 [==============================] - 7s 142us/step - loss: 3.5492 - categorical_accuracy: 0.1621 - val_loss: 3.4027 - val_categorical_accuracy: 0.2011\n",
      "Epoch 22/50\n",
      "50000/50000 [==============================] - 7s 144us/step - loss: 3.5309 - categorical_accuracy: 0.1659 - val_loss: 3.3937 - val_categorical_accuracy: 0.2040\n",
      "Epoch 23/50\n",
      "50000/50000 [==============================] - 7s 142us/step - loss: 3.5300 - categorical_accuracy: 0.1678 - val_loss: 3.3797 - val_categorical_accuracy: 0.2029\n",
      "Epoch 24/50\n",
      "50000/50000 [==============================] - 7s 141us/step - loss: 3.5136 - categorical_accuracy: 0.1698 - val_loss: 3.3766 - val_categorical_accuracy: 0.2079\n",
      "Epoch 25/50\n",
      "50000/50000 [==============================] - 7s 142us/step - loss: 3.5055 - categorical_accuracy: 0.1702 - val_loss: 3.3689 - val_categorical_accuracy: 0.2082\n",
      "Epoch 26/50\n",
      "50000/50000 [==============================] - 7s 142us/step - loss: 3.4957 - categorical_accuracy: 0.1744 - val_loss: 3.3575 - val_categorical_accuracy: 0.2081\n",
      "Epoch 27/50\n",
      "50000/50000 [==============================] - 7s 142us/step - loss: 3.4904 - categorical_accuracy: 0.1734 - val_loss: 3.3549 - val_categorical_accuracy: 0.2112\n",
      "Epoch 28/50\n",
      "50000/50000 [==============================] - 7s 142us/step - loss: 3.4785 - categorical_accuracy: 0.1750 - val_loss: 3.3366 - val_categorical_accuracy: 0.2117\n",
      "Epoch 29/50\n",
      "50000/50000 [==============================] - 7s 142us/step - loss: 3.4693 - categorical_accuracy: 0.1755 - val_loss: 3.3286 - val_categorical_accuracy: 0.2171\n",
      "Epoch 30/50\n",
      "50000/50000 [==============================] - 7s 141us/step - loss: 3.4634 - categorical_accuracy: 0.1784 - val_loss: 3.3250 - val_categorical_accuracy: 0.2162\n",
      "Epoch 31/50\n",
      "50000/50000 [==============================] - 7s 142us/step - loss: 3.4504 - categorical_accuracy: 0.1792 - val_loss: 3.3125 - val_categorical_accuracy: 0.2197\n",
      "Epoch 32/50\n",
      "50000/50000 [==============================] - 7s 142us/step - loss: 3.4451 - categorical_accuracy: 0.1824 - val_loss: 3.3035 - val_categorical_accuracy: 0.2203\n",
      "Epoch 33/50\n",
      "50000/50000 [==============================] - 7s 143us/step - loss: 3.4377 - categorical_accuracy: 0.1819 - val_loss: 3.2990 - val_categorical_accuracy: 0.2233\n",
      "Epoch 34/50\n",
      "50000/50000 [==============================] - 7s 141us/step - loss: 3.4258 - categorical_accuracy: 0.1839 - val_loss: 3.2818 - val_categorical_accuracy: 0.2229\n",
      "Epoch 35/50\n",
      "50000/50000 [==============================] - 7s 141us/step - loss: 3.4167 - categorical_accuracy: 0.1866 - val_loss: 3.2738 - val_categorical_accuracy: 0.2249\n",
      "Epoch 36/50\n",
      "50000/50000 [==============================] - 7s 141us/step - loss: 3.4091 - categorical_accuracy: 0.1891 - val_loss: 3.2666 - val_categorical_accuracy: 0.2255\n",
      "Epoch 37/50\n",
      "50000/50000 [==============================] - 7s 142us/step - loss: 3.3980 - categorical_accuracy: 0.1914 - val_loss: 3.2582 - val_categorical_accuracy: 0.2287\n",
      "Epoch 38/50\n",
      "50000/50000 [==============================] - 7s 142us/step - loss: 3.3951 - categorical_accuracy: 0.1923 - val_loss: 3.2520 - val_categorical_accuracy: 0.2318\n",
      "Epoch 39/50\n",
      "50000/50000 [==============================] - 7s 142us/step - loss: 3.3901 - categorical_accuracy: 0.1911 - val_loss: 3.2451 - val_categorical_accuracy: 0.2339\n",
      "Epoch 40/50\n",
      "50000/50000 [==============================] - 7s 142us/step - loss: 3.3764 - categorical_accuracy: 0.1922 - val_loss: 3.2303 - val_categorical_accuracy: 0.2343\n",
      "Epoch 41/50\n",
      "50000/50000 [==============================] - 7s 143us/step - loss: 3.3622 - categorical_accuracy: 0.1965 - val_loss: 3.2257 - val_categorical_accuracy: 0.2391\n",
      "Epoch 42/50\n",
      "50000/50000 [==============================] - 7s 144us/step - loss: 3.3617 - categorical_accuracy: 0.1967 - val_loss: 3.2163 - val_categorical_accuracy: 0.2383\n",
      "Epoch 43/50\n",
      "50000/50000 [==============================] - 7s 141us/step - loss: 3.3517 - categorical_accuracy: 0.2011 - val_loss: 3.2140 - val_categorical_accuracy: 0.2376\n",
      "Epoch 44/50\n",
      "50000/50000 [==============================] - 7s 142us/step - loss: 3.3403 - categorical_accuracy: 0.2015 - val_loss: 3.1962 - val_categorical_accuracy: 0.2391\n",
      "Epoch 45/50\n",
      "50000/50000 [==============================] - 7s 145us/step - loss: 3.3299 - categorical_accuracy: 0.1997 - val_loss: 3.1901 - val_categorical_accuracy: 0.2418\n",
      "Epoch 46/50\n",
      "50000/50000 [==============================] - 7s 144us/step - loss: 3.3226 - categorical_accuracy: 0.2025 - val_loss: 3.1829 - val_categorical_accuracy: 0.2424\n",
      "Epoch 47/50\n",
      "50000/50000 [==============================] - 7s 141us/step - loss: 3.3108 - categorical_accuracy: 0.2047 - val_loss: 3.1692 - val_categorical_accuracy: 0.2444\n",
      "Epoch 48/50\n",
      "50000/50000 [==============================] - 7s 143us/step - loss: 3.3021 - categorical_accuracy: 0.2048 - val_loss: 3.1631 - val_categorical_accuracy: 0.2477\n",
      "Epoch 49/50\n",
      "50000/50000 [==============================] - 7s 143us/step - loss: 3.2941 - categorical_accuracy: 0.2094 - val_loss: 3.1516 - val_categorical_accuracy: 0.2500\n",
      "Epoch 50/50\n",
      "50000/50000 [==============================] - 7s 141us/step - loss: 3.2859 - categorical_accuracy: 0.2092 - val_loss: 3.1477 - val_categorical_accuracy: 0.2482\n"
     ]
    }
   ],
   "source": [
    "if not data_augmentation:\n",
    "    print('Not using data augmentation.')\n",
    "    model.fit(x_train, y_train,\n",
    "              batch_size=batch_size,\n",
    "              epochs=epochs,\n",
    "              validation_data=(x_test, y_test),\n",
    "              shuffle=True)"
   ]
  },
  {
   "cell_type": "code",
   "execution_count": 90,
   "metadata": {},
   "outputs": [
    {
     "name": "stdout",
     "output_type": "stream",
     "text": [
      "10000/10000 [==============================] - 1s 145us/step\n",
      "Test loss: 3.601405978393555\n",
      "Test accuracy: 0.1707\n"
     ]
    }
   ],
   "source": [
    "# 训练效果\n",
    "scores = model.evaluate(x_test, y_test, verbose=1)\n",
    "print('Test loss:', scores[0])\n",
    "print('Test accuracy:', scores[1])"
   ]
  },
  {
   "cell_type": "code",
   "execution_count": 80,
   "metadata": {},
   "outputs": [],
   "source": [
    "# 模型保存路径\n",
    "save_dir = os.path.join(os.getcwd(), 'saved_models')\n",
    "model_name = 'keras_cifar100_trained_model.h5'\n",
    "if not os.path.isdir(save_dir):\n",
    "    os.makedirs(save_dir)\n",
    "model_path = os.path.join(save_dir, model_name)"
   ]
  },
  {
   "cell_type": "code",
   "execution_count": 12,
   "metadata": {},
   "outputs": [
    {
     "name": "stdout",
     "output_type": "stream",
     "text": [
      "Saved trained model at d:\\sync-cs\\bluoveGitHub\\note-on-ai\\keras-helloworld\\saved_models\\keras_cifar100_trained_model.h5 \n"
     ]
    }
   ],
   "source": [
    "# 保存模型\n",
    "model.save(model_path)\n",
    "print('Saved trained model at %s ' % model_path)"
   ]
  },
  {
   "cell_type": "code",
   "execution_count": 89,
   "metadata": {},
   "outputs": [],
   "source": [
    "# 读取模型\n",
    "# model = keras.models.load_model(model_path)"
   ]
  },
  {
   "cell_type": "code",
   "execution_count": 61,
   "metadata": {},
   "outputs": [
    {
     "data": {
      "text/plain": [
       "\u001b[1;31mSignature:\u001b[0m \u001b[0mmodel\u001b[0m\u001b[1;33m.\u001b[0m\u001b[0mfit\u001b[0m\u001b[1;33m(\u001b[0m\u001b[0mx\u001b[0m\u001b[1;33m=\u001b[0m\u001b[1;32mNone\u001b[0m\u001b[1;33m,\u001b[0m \u001b[0my\u001b[0m\u001b[1;33m=\u001b[0m\u001b[1;32mNone\u001b[0m\u001b[1;33m,\u001b[0m \u001b[0mbatch_size\u001b[0m\u001b[1;33m=\u001b[0m\u001b[1;32mNone\u001b[0m\u001b[1;33m,\u001b[0m \u001b[0mepochs\u001b[0m\u001b[1;33m=\u001b[0m\u001b[1;36m1\u001b[0m\u001b[1;33m,\u001b[0m \u001b[0mverbose\u001b[0m\u001b[1;33m=\u001b[0m\u001b[1;36m1\u001b[0m\u001b[1;33m,\u001b[0m \u001b[0mcallbacks\u001b[0m\u001b[1;33m=\u001b[0m\u001b[1;32mNone\u001b[0m\u001b[1;33m,\u001b[0m \u001b[0mvalidation_split\u001b[0m\u001b[1;33m=\u001b[0m\u001b[1;36m0.0\u001b[0m\u001b[1;33m,\u001b[0m \u001b[0mvalidation_data\u001b[0m\u001b[1;33m=\u001b[0m\u001b[1;32mNone\u001b[0m\u001b[1;33m,\u001b[0m \u001b[0mshuffle\u001b[0m\u001b[1;33m=\u001b[0m\u001b[1;32mTrue\u001b[0m\u001b[1;33m,\u001b[0m \u001b[0mclass_weight\u001b[0m\u001b[1;33m=\u001b[0m\u001b[1;32mNone\u001b[0m\u001b[1;33m,\u001b[0m \u001b[0msample_weight\u001b[0m\u001b[1;33m=\u001b[0m\u001b[1;32mNone\u001b[0m\u001b[1;33m,\u001b[0m \u001b[0minitial_epoch\u001b[0m\u001b[1;33m=\u001b[0m\u001b[1;36m0\u001b[0m\u001b[1;33m,\u001b[0m \u001b[0msteps_per_epoch\u001b[0m\u001b[1;33m=\u001b[0m\u001b[1;32mNone\u001b[0m\u001b[1;33m,\u001b[0m \u001b[0mvalidation_steps\u001b[0m\u001b[1;33m=\u001b[0m\u001b[1;32mNone\u001b[0m\u001b[1;33m,\u001b[0m \u001b[1;33m**\u001b[0m\u001b[0mkwargs\u001b[0m\u001b[1;33m)\u001b[0m\u001b[1;33m\u001b[0m\u001b[0m\n",
       "\u001b[1;31mDocstring:\u001b[0m\n",
       "Trains the model for a given number of epochs (iterations on a dataset).\n",
       "\n",
       "# Arguments\n",
       "    x: Numpy array of training data (if the model has a single input),\n",
       "        or list of Numpy arrays (if the model has multiple inputs).\n",
       "        If input layers in the model are named, you can also pass a\n",
       "        dictionary mapping input names to Numpy arrays.\n",
       "        `x` can be `None` (default) if feeding from\n",
       "        framework-native tensors (e.g. TensorFlow data tensors).\n",
       "    y: Numpy array of target (label) data\n",
       "        (if the model has a single output),\n",
       "        or list of Numpy arrays (if the model has multiple outputs).\n",
       "        If output layers in the model are named, you can also pass a\n",
       "        dictionary mapping output names to Numpy arrays.\n",
       "        `y` can be `None` (default) if feeding from\n",
       "        framework-native tensors (e.g. TensorFlow data tensors).\n",
       "    batch_size: Integer or `None`.\n",
       "        Number of samples per gradient update.\n",
       "        If unspecified, `batch_size` will default to 32.\n",
       "    epochs: Integer. Number of epochs to train the model.\n",
       "        An epoch is an iteration over the entire `x` and `y`\n",
       "        data provided.\n",
       "        Note that in conjunction with `initial_epoch`,\n",
       "        `epochs` is to be understood as \"final epoch\".\n",
       "        The model is not trained for a number of iterations\n",
       "        given by `epochs`, but merely until the epoch\n",
       "        of index `epochs` is reached.\n",
       "    verbose: Integer. 0, 1, or 2. Verbosity mode.\n",
       "        0 = silent, 1 = progress bar, 2 = one line per epoch.\n",
       "    callbacks: List of `keras.callbacks.Callback` instances.\n",
       "        List of callbacks to apply during training.\n",
       "        See [callbacks](/callbacks).\n",
       "    validation_split: Float between 0 and 1.\n",
       "        Fraction of the training data to be used as validation data.\n",
       "        The model will set apart this fraction of the training data,\n",
       "        will not train on it, and will evaluate\n",
       "        the loss and any model metrics\n",
       "        on this data at the end of each epoch.\n",
       "        The validation data is selected from the last samples\n",
       "        in the `x` and `y` data provided, before shuffling.\n",
       "    validation_data: tuple `(x_val, y_val)` or tuple\n",
       "        `(x_val, y_val, val_sample_weights)` on which to evaluate\n",
       "        the loss and any model metrics at the end of each epoch.\n",
       "        The model will not be trained on this data.\n",
       "        `validation_data` will override `validation_split`.\n",
       "    shuffle: Boolean (whether to shuffle the training data\n",
       "        before each epoch) or str (for 'batch').\n",
       "        'batch' is a special option for dealing with the\n",
       "        limitations of HDF5 data; it shuffles in batch-sized chunks.\n",
       "        Has no effect when `steps_per_epoch` is not `None`.\n",
       "    class_weight: Optional dictionary mapping class indices (integers)\n",
       "        to a weight (float) value, used for weighting the loss function\n",
       "        (during training only).\n",
       "        This can be useful to tell the model to\n",
       "        \"pay more attention\" to samples from\n",
       "        an under-represented class.\n",
       "    sample_weight: Optional Numpy array of weights for\n",
       "        the training samples, used for weighting the loss function\n",
       "        (during training only). You can either pass a flat (1D)\n",
       "        Numpy array with the same length as the input samples\n",
       "        (1:1 mapping between weights and samples),\n",
       "        or in the case of temporal data,\n",
       "        you can pass a 2D array with shape\n",
       "        `(samples, sequence_length)`,\n",
       "        to apply a different weight to every timestep of every sample.\n",
       "        In this case you should make sure to specify\n",
       "        `sample_weight_mode=\"temporal\"` in `compile()`.\n",
       "    initial_epoch: Integer.\n",
       "        Epoch at which to start training\n",
       "        (useful for resuming a previous training run).\n",
       "    steps_per_epoch: Integer or `None`.\n",
       "        Total number of steps (batches of samples)\n",
       "        before declaring one epoch finished and starting the\n",
       "        next epoch. When training with input tensors such as\n",
       "        TensorFlow data tensors, the default `None` is equal to\n",
       "        the number of samples in your dataset divided by\n",
       "        the batch size, or 1 if that cannot be determined.\n",
       "    validation_steps: Only relevant if `steps_per_epoch`\n",
       "        is specified. Total number of steps (batches of samples)\n",
       "        to validate before stopping.\n",
       "\n",
       "# Returns\n",
       "    A `History` object. Its `History.history` attribute is\n",
       "    a record of training loss values and metrics values\n",
       "    at successive epochs, as well as validation loss values\n",
       "    and validation metrics values (if applicable).\n",
       "\n",
       "# Raises\n",
       "    RuntimeError: If the model was never compiled.\n",
       "    ValueError: In case of mismatch between the provided input data\n",
       "        and what the model expects.\n",
       "\u001b[1;31mFile:\u001b[0m      c:\\software\\anaconda\\envs\\tensorflow\\lib\\site-packages\\keras\\engine\\training.py\n",
       "\u001b[1;31mType:\u001b[0m      method\n"
      ]
     },
     "metadata": {},
     "output_type": "display_data"
    }
   ],
   "source": [
    "model.fit?"
   ]
  },
  {
   "cell_type": "code",
   "execution_count": 54,
   "metadata": {},
   "outputs": [
    {
     "name": "stdout",
     "output_type": "stream",
     "text": [
      "(3, 3, 3, 32)\n",
      "(32,)\n",
      "(3, 3, 32, 32)\n",
      "(32,)\n",
      "(3, 3, 32, 64)\n",
      "(64,)\n",
      "(3, 3, 64, 64)\n",
      "(64,)\n",
      "(4096, 512)\n",
      "(512,)\n",
      "(512, 100)\n",
      "(100,)\n"
     ]
    }
   ],
   "source": [
    "[i.shape for i in model.get_weights()]"
   ]
  },
  {
   "cell_type": "code",
   "execution_count": 53,
   "metadata": {},
   "outputs": [
    {
     "name": "stdout",
     "output_type": "stream",
     "text": [
      "[<tf.Tensor 'conv2d_1_input:0' shape=(?, 32, 32, 3) dtype=float32>]\n",
      "_________________________________________________________________\n",
      "Layer (type)                 Output Shape              Param #   \n",
      "=================================================================\n",
      "conv2d_1 (Conv2D)            (None, 32, 32, 32)        896       \n",
      "_________________________________________________________________\n",
      "conv2d_2 (Conv2D)            (None, 32, 32, 32)        9248      \n",
      "_________________________________________________________________\n",
      "max_pooling2d_1 (MaxPooling2 (None, 16, 16, 32)        0         \n",
      "_________________________________________________________________\n",
      "dropout_1 (Dropout)          (None, 16, 16, 32)        0         \n",
      "_________________________________________________________________\n",
      "conv2d_3 (Conv2D)            (None, 16, 16, 64)        18496     \n",
      "_________________________________________________________________\n",
      "conv2d_4 (Conv2D)            (None, 16, 16, 64)        36928     \n",
      "_________________________________________________________________\n",
      "max_pooling2d_2 (MaxPooling2 (None, 8, 8, 64)          0         \n",
      "_________________________________________________________________\n",
      "dropout_2 (Dropout)          (None, 8, 8, 64)          0         \n",
      "_________________________________________________________________\n",
      "flatten_1 (Flatten)          (None, 4096)              0         \n",
      "_________________________________________________________________\n",
      "dense_1 (Dense)              (None, 512)               2097664   \n",
      "_________________________________________________________________\n",
      "dropout_3 (Dropout)          (None, 512)               0         \n",
      "_________________________________________________________________\n",
      "dense_2 (Dense)              (None, 100)               51300     \n",
      "_________________________________________________________________\n",
      "activation_1 (Activation)    (None, 100)               0         \n",
      "=================================================================\n",
      "Total params: 2,214,532\n",
      "Trainable params: 2,214,532\n",
      "Non-trainable params: 0\n",
      "_________________________________________________________________\n"
     ]
    }
   ],
   "source": [
    "print(model.inputs)\n",
    "model.summary()"
   ]
  },
  {
   "cell_type": "code",
   "execution_count": null,
   "metadata": {},
   "outputs": [],
   "source": []
  },
  {
   "cell_type": "code",
   "execution_count": null,
   "metadata": {},
   "outputs": [],
   "source": []
  },
  {
   "cell_type": "code",
   "execution_count": null,
   "metadata": {},
   "outputs": [],
   "source": []
  },
  {
   "cell_type": "code",
   "execution_count": null,
   "metadata": {},
   "outputs": [],
   "source": []
  },
  {
   "cell_type": "code",
   "execution_count": null,
   "metadata": {},
   "outputs": [],
   "source": []
  }
 ],
 "metadata": {
  "kernelspec": {
   "display_name": "Python 3",
   "language": "python",
   "name": "python3"
  },
  "language_info": {
   "codemirror_mode": {
    "name": "ipython",
    "version": 3
   },
   "file_extension": ".py",
   "mimetype": "text/x-python",
   "name": "python",
   "nbconvert_exporter": "python",
   "pygments_lexer": "ipython3",
   "version": "3.6.7"
  }
 },
 "nbformat": 4,
 "nbformat_minor": 2
}
