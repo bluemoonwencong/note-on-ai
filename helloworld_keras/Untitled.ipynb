{
 "cells": [
  {
   "cell_type": "code",
   "execution_count": 1,
   "metadata": {},
   "outputs": [],
   "source": [
    "def get_actual_classes_map(actual_classes_file):\n",
    "    actual_classes_map = {}\n",
    "    with open(actual_classes_file, 'r') as fread:\n",
    "        for line in fread.readlines():\n",
    "            line_list = line.strip().split(\" \")\n",
    "            key = int(line_list[0])\n",
    "            val = [int(i) for i in line_list[1:]]\n",
    "            actual_classes_map[key] = val\n",
    "    return actual_classes_map"
   ]
  },
  {
   "cell_type": "code",
   "execution_count": 2,
   "metadata": {},
   "outputs": [],
   "source": [
    "actual_classes_map = get_actual_classes_map(r\"d:\\sync-cs\\bluoveGitHub\\plants_disease_detection_keras\\model1\\actual_classed_v2.txt\")"
   ]
  },
  {
   "cell_type": "code",
   "execution_count": 3,
   "metadata": {},
   "outputs": [
    {
     "data": {
      "text/plain": [
       "{0: [0, 0, 0, 0],\n",
       " 1: [0, 1, 1, 1],\n",
       " 2: [0, 1, 2, 1],\n",
       " 3: [0, 1, 3, 2],\n",
       " 4: [0, 1, 1, 3],\n",
       " 5: [0, 1, 2, 3],\n",
       " 6: [1, 0, 0, 0],\n",
       " 7: [1, 1, 1, 4],\n",
       " 8: [1, 1, 2, 4],\n",
       " 9: [2, 0, 0, 0],\n",
       " 10: [2, 1, 1, 5],\n",
       " 11: [2, 1, 2, 5],\n",
       " 12: [2, 1, 1, 6],\n",
       " 13: [2, 1, 2, 6],\n",
       " 14: [2, 1, 1, 7],\n",
       " 15: [2, 1, 2, 7],\n",
       " 16: [2, 1, 3, 8],\n",
       " 17: [3, 0, 0, 8],\n",
       " 18: [3, 1, 1, 9],\n",
       " 19: [3, 1, 2, 0],\n",
       " 20: [3, 1, 1, 10],\n",
       " 21: [3, 1, 2, 10],\n",
       " 22: [3, 1, 1, 11],\n",
       " 23: [3, 1, 2, 11],\n",
       " 24: [4, 0, 0, 0],\n",
       " 25: [4, 1, 1, 12],\n",
       " 26: [4, 1, 2, 12],\n",
       " 27: [5, 0, 0, 0],\n",
       " 28: [5, 1, 1, 13],\n",
       " 29: [5, 1, 2, 13],\n",
       " 30: [6, 0, 0, 0],\n",
       " 31: [6, 1, 1, 14],\n",
       " 32: [6, 1, 2, 14],\n",
       " 33: [7, 0, 0, 0],\n",
       " 34: [7, 1, 1, 15],\n",
       " 35: [7, 1, 2, 15],\n",
       " 36: [7, 1, 1, 16],\n",
       " 37: [7, 1, 2, 16],\n",
       " 38: [8, 0, 0, 0],\n",
       " 39: [8, 1, 1, 17],\n",
       " 40: [8, 1, 2, 17],\n",
       " 41: [9, 0, 0, 0],\n",
       " 42: [9, 1, 1, 18],\n",
       " 43: [9, 1, 2, 18],\n",
       " 44: [9, 1, 1, 19],\n",
       " 45: [9, 1, 2, 19],\n",
       " 46: [9, 1, 1, 20],\n",
       " 47: [9, 1, 2, 20],\n",
       " 48: [9, 1, 1, 21],\n",
       " 49: [9, 1, 2, 21],\n",
       " 50: [9, 1, 1, 22],\n",
       " 51: [9, 1, 2, 22],\n",
       " 52: [9, 1, 1, 23],\n",
       " 53: [9, 1, 2, 23],\n",
       " 54: [9, 1, 1, 24],\n",
       " 55: [9, 1, 2, 24],\n",
       " 56: [9, 1, 1, 25],\n",
       " 57: [9, 1, 2, 25],\n",
       " 58: [9, 1, 1, 26],\n",
       " 59: [9, 1, 2, 26],\n",
       " 60: [9, 1, 3, 27]}"
      ]
     },
     "execution_count": 3,
     "metadata": {},
     "output_type": "execute_result"
    }
   ],
   "source": [
    "actual_classes_map"
   ]
  },
  {
   "cell_type": "code",
   "execution_count": 15,
   "metadata": {},
   "outputs": [],
   "source": [
    "from tensorflow.keras.preprocessing.image import ImageDataGenerator\n",
    "from tensorflow.keras.applications.densenet import preprocess_input\n",
    "classes = [str(i) for i in range(61)]\n",
    "img_rows, img_cols = 224,224  \n",
    "batch_size = 64  \n"
   ]
  },
  {
   "cell_type": "code",
   "execution_count": 37,
   "metadata": {},
   "outputs": [
    {
     "data": {
      "text/plain": [
       "<function keras_preprocessing.image.ImageDataGenerator.flow_from_directory(self, directory, target_size=(256, 256), color_mode='rgb', classes=None, class_mode='categorical', batch_size=32, shuffle=True, seed=None, save_to_dir=None, save_prefix='', save_format='png', follow_links=False, subset=None, interpolation='nearest')>"
      ]
     },
     "execution_count": 37,
     "metadata": {},
     "output_type": "execute_result"
    }
   ],
   "source": [
    "ImageDataGenerator.flow_from_directory"
   ]
  },
  {
   "cell_type": "code",
   "execution_count": 24,
   "metadata": {},
   "outputs": [],
   "source": [
    "val_datagen = ImageDataGenerator(preprocessing_function=preprocess_input,\n",
    "                                 rescale=1. / 255)"
   ]
  },
  {
   "cell_type": "code",
   "execution_count": 25,
   "metadata": {},
   "outputs": [
    {
     "name": "stdout",
     "output_type": "stream",
     "text": [
      "Found 4540 images belonging to 61 classes.\n"
     ]
    }
   ],
   "source": [
    "val_generator = val_datagen.flow_from_directory(\n",
    "    r'd:\\sync-cs\\bluoveGitHub\\plants_disease_detection_keras\\data\\val', actual_classes_map, classes=classes,\n",
    "    batch_size=batch_size,\n",
    "    seed=2018,\n",
    "    )"
   ]
  },
  {
   "cell_type": "code",
   "execution_count": 34,
   "metadata": {},
   "outputs": [
    {
     "name": "stdout",
     "output_type": "stream",
     "text": [
      "{'0': 0, '1': 1, '2': 2, '3': 3, '4': 4, '5': 5, '6': 6, '7': 7, '8': 8, '9': 9, '10': 10, '11': 11, '12': 12, '13': 13, '14': 14, '15': 15, '16': 16, '17': 17, '18': 18, '19': 19, '20': 20, '21': 21, '22': 22, '23': 23, '24': 24, '25': 25, '26': 26, '27': 27, '28': 28, '29': 29, '30': 30, '31': 31, '32': 32, '33': 33, '34': 34, '35': 35, '36': 36, '37': 37, '38': 38, '39': 39, '40': 40, '41': 41, '42': 42, '43': 43, '44': 44, '45': 45, '46': 46, '47': 47, '48': 48, '49': 49, '50': 50, '51': 51, '52': 52, '53': 53, '54': 54, '55': 55, '56': 56, '57': 57, '58': 58, '59': 59, '60': 60}\n"
     ]
    }
   ],
   "source": [
    "print(val_generator.class_indices)"
   ]
  },
  {
   "cell_type": "code",
   "execution_count": 35,
   "metadata": {},
   "outputs": [],
   "source": [
    "from tensorflow.keras.callbacks import Callback"
   ]
  },
  {
   "cell_type": "code",
   "execution_count": null,
   "metadata": {},
   "outputs": [],
   "source": []
  },
  {
   "cell_type": "code",
   "execution_count": null,
   "metadata": {},
   "outputs": [],
   "source": []
  },
  {
   "cell_type": "code",
   "execution_count": null,
   "metadata": {},
   "outputs": [],
   "source": []
  },
  {
   "cell_type": "code",
   "execution_count": null,
   "metadata": {},
   "outputs": [],
   "source": []
  },
  {
   "cell_type": "code",
   "execution_count": null,
   "metadata": {},
   "outputs": [],
   "source": []
  },
  {
   "cell_type": "code",
   "execution_count": null,
   "metadata": {},
   "outputs": [],
   "source": []
  },
  {
   "cell_type": "code",
   "execution_count": null,
   "metadata": {},
   "outputs": [],
   "source": []
  },
  {
   "cell_type": "code",
   "execution_count": null,
   "metadata": {},
   "outputs": [],
   "source": []
  },
  {
   "cell_type": "code",
   "execution_count": null,
   "metadata": {},
   "outputs": [],
   "source": []
  },
  {
   "cell_type": "code",
   "execution_count": null,
   "metadata": {},
   "outputs": [],
   "source": []
  },
  {
   "cell_type": "code",
   "execution_count": null,
   "metadata": {},
   "outputs": [],
   "source": []
  },
  {
   "cell_type": "code",
   "execution_count": null,
   "metadata": {},
   "outputs": [],
   "source": []
  }
 ],
 "metadata": {
  "kernelspec": {
   "display_name": "Python 3",
   "language": "python",
   "name": "python3"
  },
  "language_info": {
   "codemirror_mode": {
    "name": "ipython",
    "version": 3
   },
   "file_extension": ".py",
   "mimetype": "text/x-python",
   "name": "python",
   "nbconvert_exporter": "python",
   "pygments_lexer": "ipython3",
   "version": "3.6.7"
  }
 },
 "nbformat": 4,
 "nbformat_minor": 2
}
