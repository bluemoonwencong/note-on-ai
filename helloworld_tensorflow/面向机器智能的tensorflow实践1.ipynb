{
 "cells": [
  {
   "cell_type": "markdown",
   "metadata": {},
   "source": [
    "本书代码：https://github.com/backstopmedia/tensorflowbook"
   ]
  },
  {
   "cell_type": "code",
   "execution_count": 1,
   "metadata": {},
   "outputs": [],
   "source": [
    "import numpy as np\n",
    "import tensorflow as tf\n",
    "import matplotlib.pyplot as plt"
   ]
  },
  {
   "cell_type": "markdown",
   "metadata": {},
   "source": [
    "### 1. Tensor, Operation, Session对象"
   ]
  },
  {
   "cell_type": "code",
   "execution_count": 20,
   "metadata": {},
   "outputs": [
    {
     "name": "stdout",
     "output_type": "stream",
     "text": [
      "23\n"
     ]
    },
    {
     "data": {
      "text/plain": [
       "15"
      ]
     },
     "execution_count": 20,
     "metadata": {},
     "output_type": "execute_result"
    }
   ],
   "source": [
    "a = tf.constant(5, name='input_a')\n",
    "b = tf.constant(3, name='input_b')\n",
    "c = tf.multiply(a,b, name='mul_c')\n",
    "d = tf.add(a,b, name='add_d')\n",
    "e = tf.add(c,d, name='add_e')\n",
    "sess = tf.Session()\n",
    "ans = sess.run(e)\n",
    "print(ans)\n",
    "sess.run(c)"
   ]
  },
  {
   "cell_type": "code",
   "execution_count": 4,
   "metadata": {},
   "outputs": [],
   "source": [
    "writer = tf.summary.FileWriter('./my_graph', sess.graph)"
   ]
  },
  {
   "cell_type": "code",
   "execution_count": null,
   "metadata": {},
   "outputs": [],
   "source": [
    "!tensorboard --logdir='./my_graph'"
   ]
  },
  {
   "cell_type": "code",
   "execution_count": 23,
   "metadata": {},
   "outputs": [],
   "source": [
    "sess.close()\n",
    "writer.close()"
   ]
  },
  {
   "cell_type": "code",
   "execution_count": 59,
   "metadata": {},
   "outputs": [
    {
     "name": "stdout",
     "output_type": "stream",
     "text": [
      "120\n"
     ]
    }
   ],
   "source": [
    "a = tf.constant([3,5,7], name='input_a')\n",
    "c = tf.reduce_sum(a, name='mul_c')\n",
    "d = tf.reduce_prod(a, name='add_d')\n",
    "e = tf.add(c,d, name='add_e')\n",
    "sess = tf.Session()\n",
    "ans = sess.run(e)\n",
    "print(ans)"
   ]
  },
  {
   "cell_type": "code",
   "execution_count": 60,
   "metadata": {},
   "outputs": [
    {
     "name": "stdout",
     "output_type": "stream",
     "text": [
      "[3]\n"
     ]
    },
    {
     "data": {
      "text/plain": [
       "[array([3, 5, 7]), 15, 105, 120]"
      ]
     },
     "execution_count": 60,
     "metadata": {},
     "output_type": "execute_result"
    }
   ],
   "source": [
    "print(sess.run(tf.shape(a)))\n",
    "sess.run([a,c,d,e])"
   ]
  },
  {
   "cell_type": "code",
   "execution_count": 66,
   "metadata": {},
   "outputs": [
    {
     "data": {
      "text/plain": [
       "[array([3, 5, 7]), array(150), 105, 255]"
      ]
     },
     "execution_count": 66,
     "metadata": {},
     "output_type": "execute_result"
    }
   ],
   "source": [
    "replace_dict = {c: 150}\n",
    "sess.run([a,c,d,e], feed_dict=replace_dict)\n",
    "# feed_dict是覆盖，即使c的计算结果是15，也会被覆盖"
   ]
  },
  {
   "cell_type": "code",
   "execution_count": 67,
   "metadata": {},
   "outputs": [],
   "source": [
    "sess.close()"
   ]
  },
  {
   "cell_type": "markdown",
   "metadata": {},
   "source": [
    "TensorFlow Operation也称Op， 是一些对（或利用） Tensor对象执行运算的节点。 计算完毕后， 它们会返回0个或多个张量， 可在以后为数据流图中的其他Op所使用。 为创建Op， 需要在Python中调用其构造方法。 调用时， 需要传入计算所需的所有Tensor参数（称为输入） 以及为正确创建Op的任何附加信息（称为属性） 。 Python构造方法将返回一个指向所创建Op的输出（0个或多个Tensor对象） 的句柄。 能够传递给其他Op或Session.run\n",
    "\n",
    "句柄是什么？指针吗?"
   ]
  },
  {
   "cell_type": "markdown",
   "metadata": {},
   "source": [
    "### 2. placehodler对象"
   ]
  },
  {
   "cell_type": "code",
   "execution_count": 56,
   "metadata": {},
   "outputs": [
    {
     "name": "stdout",
     "output_type": "stream",
     "text": [
      "[True, True, True, True]\n",
      "[True, True, True, True]\n",
      "[tf.uint8, tf.string, tf.qint8]\n"
     ]
    }
   ],
   "source": [
    "print([np.float16 == tf.float16, np.float32 == tf.float32, np.float64 == tf.float64, np.bool==tf.bool])\n",
    "print([np.int8 == tf.int8, np.int16 == tf.int16, np.int32 == tf.int32, np.int64 == tf.int64])\n",
    "print([tf.uint8, tf.string, tf.qint8])"
   ]
  },
  {
   "cell_type": "code",
   "execution_count": 82,
   "metadata": {},
   "outputs": [
    {
     "name": "stdout",
     "output_type": "stream",
     "text": [
      "<dtype: 'float32'> (3,) input_6:0\n"
     ]
    }
   ],
   "source": [
    "a = tf.placeholder(dtype=tf.float32, shape=[3], name='input')\n",
    "print(a.dtype, a.shape, a.name)\n",
    "b = tf.reduce_sum(a)\n",
    "c = tf.reduce_prod(a)\n",
    "d = tf.add(b,c)"
   ]
  },
  {
   "cell_type": "markdown",
   "metadata": {},
   "source": [
    "dtype参数必须， shape参数可选,默认为None，任意维度任意长度， name参数可选。 笔者强烈建议你养成显式声明Tensor对象的数值属性的习惯，因为当处理的流图规模较大时，相信你一定不希望去逐一排查到底哪些对象导致了TypeMismatchError！"
   ]
  },
  {
   "cell_type": "code",
   "execution_count": 86,
   "metadata": {},
   "outputs": [
    {
     "name": "stdout",
     "output_type": "stream",
     "text": [
      "[array([3., 4., 6.], dtype=float32), 13.0, 72.0, 85.0]\n"
     ]
    }
   ],
   "source": [
    "input_dict = {a: np.array([3,4,6], dtype=np.float32)}\n",
    "with tf.Session() as sess:\n",
    "    print(sess.run([a,b,c,d], feed_dict=input_dict))"
   ]
  },
  {
   "cell_type": "markdown",
   "metadata": {},
   "source": [
    "tf.placeholder是Operation。tensorflow中，Tensor和Operation是immutable，Variable对象是可变的。"
   ]
  },
  {
   "cell_type": "code",
   "execution_count": 102,
   "metadata": {},
   "outputs": [
    {
     "name": "stdout",
     "output_type": "stream",
     "text": [
      "[[0. 0. 0.]\n",
      " [0. 0. 0.]]\n",
      "[[1. 1. 1.]\n",
      " [1. 1. 1.]]\n",
      "[[-1.0554614  -0.99829733  1.4435314 ]\n",
      " [-0.0977305  -1.0170534   2.9315066 ]]\n",
      "[[0.7331735  0.29038632 0.18845737]\n",
      " [0.6761904  0.05591452 0.29866135]]\n",
      "[[3.8828673 5.9375644 4.557488 ]\n",
      " [5.055162  4.4379168 5.8577147]]\n"
     ]
    }
   ],
   "source": [
    "sess = tf.Session()\n",
    "print( sess.run(tf.zeros((2,3))) )\n",
    "print( sess.run(tf.ones((2,3))) )\n",
    "print( sess.run(tf.random_normal((2,3))) )\n",
    "print( sess.run(tf.random_uniform((2,3))) )\n",
    "print( sess.run(tf.truncated_normal((2,3), mean=5.0, stddev=1.0)) )#不会有小于3或大于7的元素\n",
    "#不会创建任何偏离均值超过2倍标准差的值，从而可以防止有一个或两个元素与该张量中的其他元素显著不同的情况出现\n",
    "sess.close()"
   ]
  },
  {
   "cell_type": "markdown",
   "metadata": {},
   "source": [
    "### 3. Variable对象"
   ]
  },
  {
   "cell_type": "markdown",
   "metadata": {},
   "source": [
    "为使用Variable对象，需要采取一些额外的步骤——必须在一个Session对象内对Variable对象进行初始化。 这样会使Session对象开始追踪这个Variable对象的值的变化。 Variable对象的初始化通常是通过将tf.global_variables_initializer()这个Op传给Session.run()完成的"
   ]
  },
  {
   "cell_type": "code",
   "execution_count": 137,
   "metadata": {},
   "outputs": [],
   "source": [
    "my_var = tf.Variable([1,2,3], dtype=tf.float32, name='my_var')"
   ]
  },
  {
   "cell_type": "code",
   "execution_count": 138,
   "metadata": {},
   "outputs": [],
   "source": [
    "init = tf.global_variables_initializer()# this is op\n",
    "# 如果只对一个Variable初始化\n",
    "# tf.initialize_variables([my_var])"
   ]
  },
  {
   "cell_type": "code",
   "execution_count": 143,
   "metadata": {},
   "outputs": [],
   "source": [
    "my_var_times_two = my_var.assign(my_var*2)# this is op!\n",
    "# my_var.assign_add，自加\n",
    "# my_var.assign_sub，自减"
   ]
  },
  {
   "cell_type": "code",
   "execution_count": 140,
   "metadata": {},
   "outputs": [],
   "source": [
    "sess = tf.Session()\n",
    "sess.run(init)"
   ]
  },
  {
   "cell_type": "code",
   "execution_count": 145,
   "metadata": {},
   "outputs": [
    {
     "name": "stdout",
     "output_type": "stream",
     "text": [
      "[16. 32. 48.]\n",
      "[16. 32. 48.]\n"
     ]
    }
   ],
   "source": [
    "print(sess.run(my_var_times_two))\n",
    "print(sess.run(my_var))"
   ]
  },
  {
   "cell_type": "code",
   "execution_count": 146,
   "metadata": {},
   "outputs": [],
   "source": [
    "sess.close()"
   ]
  },
  {
   "cell_type": "markdown",
   "metadata": {},
   "source": [
    "不同Session对象会各自独立地维护Variable对象的值， 因此每个Session对象都拥有自己的、 在Graph对象中定义的Variable对象的当前值"
   ]
  },
  {
   "cell_type": "code",
   "execution_count": 148,
   "metadata": {},
   "outputs": [],
   "source": [
    "sess1 = tf.Session()\n",
    "sess2 = tf.Session()"
   ]
  },
  {
   "cell_type": "code",
   "execution_count": 168,
   "metadata": {},
   "outputs": [
    {
     "name": "stdout",
     "output_type": "stream",
     "text": [
      "[2. 4. 6.]\n",
      "[ 4.  8. 12.]\n",
      "[ 8. 16. 24.]\n",
      "[16. 32. 48.]\n"
     ]
    },
    {
     "data": {
      "text/plain": [
       "array([32., 64., 96.], dtype=float32)"
      ]
     },
     "execution_count": 168,
     "metadata": {},
     "output_type": "execute_result"
    }
   ],
   "source": [
    "sess1.run(init)\n",
    "for i in range(4):\n",
    "    print(sess1.run(my_var_times_two))\n",
    "sess1.run(my_var_times_two)"
   ]
  },
  {
   "cell_type": "code",
   "execution_count": 169,
   "metadata": {},
   "outputs": [
    {
     "name": "stdout",
     "output_type": "stream",
     "text": [
      "[2. 4. 6.]\n",
      "[ 4.  8. 12.]\n"
     ]
    },
    {
     "data": {
      "text/plain": [
       "array([ 8., 16., 24.], dtype=float32)"
      ]
     },
     "execution_count": 169,
     "metadata": {},
     "output_type": "execute_result"
    }
   ],
   "source": [
    "sess2.run(init)\n",
    "for i in range(2):\n",
    "    print(sess2.run(my_var_times_two))\n",
    "sess2.run(my_var_times_two)"
   ]
  },
  {
   "cell_type": "code",
   "execution_count": 170,
   "metadata": {},
   "outputs": [],
   "source": [
    "sess1.close()\n",
    "sess2.close()"
   ]
  },
  {
   "cell_type": "markdown",
   "metadata": {},
   "source": [
    "### 4. grap对象"
   ]
  },
  {
   "cell_type": "markdown",
   "metadata": {},
   "source": [
    "下面来研究TensorFlow的Graph对象， 学习如何创建更多的数据流图， 以及如何让多个流图协同工作。\n",
    "\n",
    "在大多数TensorFlow程序中， 只使用默认数据流图就足够了。 然而， 如果需要定义多个相互之间不存在依赖关系的模型， 则创建多个Graph对象十分有用。\n",
    "\n",
    "此外， 从其他TensorFlow脚本中加载之前定义的模型， 并利用Graph.as_graph_def（） 和tf.import_graph_def（） 函数将其赋给Graph对象也是可行的。 这样， 用户便可在同一个Python文件中计算和使用若干独立的模型的输出。 本书后续章节将介绍数据流图的导入和导出。"
   ]
  },
  {
   "cell_type": "code",
   "execution_count": null,
   "metadata": {},
   "outputs": [],
   "source": []
  },
  {
   "cell_type": "code",
   "execution_count": null,
   "metadata": {},
   "outputs": [],
   "source": []
  },
  {
   "cell_type": "markdown",
   "metadata": {},
   "source": [
    "### 5. trainable参数"
   ]
  },
  {
   "cell_type": "markdown",
   "metadata": {},
   "source": [
    "在本书的后续章节将介绍各种能够自动训练机器学习模型的Optimizer类，这意味着这些类将自动修改Variable对象的值，而无须显式做出请求。在大多数情况下，这与读者的期望一致，但如果要求Graph对象中的一些Variable对象只可手工修改，而不允许使用Optimizer类时，可在创建这些Variable对象时将其trainable参数设为False。"
   ]
  },
  {
   "cell_type": "code",
   "execution_count": 177,
   "metadata": {},
   "outputs": [
    {
     "data": {
      "text/plain": [
       "<tf.Variable 'Variable_2:0' shape=(3,) dtype=int32_ref>"
      ]
     },
     "execution_count": 177,
     "metadata": {},
     "output_type": "execute_result"
    }
   ],
   "source": [
    "no_trainable_variable = tf.Variable([2,3,4], trainable=False)\n",
    "no_trainable_variable"
   ]
  },
  {
   "cell_type": "code",
   "execution_count": null,
   "metadata": {},
   "outputs": [],
   "source": []
  },
  {
   "cell_type": "markdown",
   "metadata": {},
   "source": [
    "### 6. 名称作用域"
   ]
  },
  {
   "cell_type": "markdown",
   "metadata": {},
   "source": [
    "现在开始介绍构建任何TensorFlow数据流图所必需的核心构件。到目前为止，我们只接触了包含少量节点和阶数较小的张量的非常简单的数据流图，但现实世界中的模型往往会包含几十或上百个节点，以及数以百万计的参数。为使这种级别的复杂性可控，TensorFlow当前提供了一种帮助用户组织数据流图的机制——名称作用域（name scope）。名称作用域非常易于使用， 且在用TensorBoard对Graph对象可视化时极有价值。\n",
    "https://github.com/backstopmedia/tensorflowbook"
   ]
  },
  {
   "cell_type": "code",
   "execution_count": 200,
   "metadata": {},
   "outputs": [
    {
     "ename": "AttributeError",
     "evalue": "module 'tensorflow' has no attribute 'mul'",
     "output_type": "error",
     "traceback": [
      "\u001b[1;31m---------------------------------------------------------------------------\u001b[0m",
      "\u001b[1;31mAttributeError\u001b[0m                            Traceback (most recent call last)",
      "\u001b[1;32m<ipython-input-200-8df71f47bfe5>\u001b[0m in \u001b[0;36m<module>\u001b[1;34m()\u001b[0m\n\u001b[0;32m      9\u001b[0m \u001b[1;33m\u001b[0m\u001b[0m\n\u001b[0;32m     10\u001b[0m         \u001b[1;32mwith\u001b[0m \u001b[0mtf\u001b[0m\u001b[1;33m.\u001b[0m\u001b[0mname_scope\u001b[0m\u001b[1;33m(\u001b[0m\u001b[1;34m\"A\"\u001b[0m\u001b[1;33m)\u001b[0m\u001b[1;33m:\u001b[0m\u001b[1;33m\u001b[0m\u001b[0m\n\u001b[1;32m---> 11\u001b[1;33m             \u001b[0mA_mul\u001b[0m \u001b[1;33m=\u001b[0m \u001b[0mtf\u001b[0m\u001b[1;33m.\u001b[0m\u001b[0mmul\u001b[0m\u001b[1;33m(\u001b[0m\u001b[0min_1\u001b[0m\u001b[1;33m,\u001b[0m \u001b[0mconst\u001b[0m\u001b[1;33m)\u001b[0m\u001b[1;33m\u001b[0m\u001b[0m\n\u001b[0m\u001b[0;32m     12\u001b[0m             \u001b[0mA_out\u001b[0m \u001b[1;33m=\u001b[0m \u001b[0mtf\u001b[0m\u001b[1;33m.\u001b[0m\u001b[0msub\u001b[0m\u001b[1;33m(\u001b[0m\u001b[0mA_mul\u001b[0m\u001b[1;33m,\u001b[0m \u001b[0min_1\u001b[0m\u001b[1;33m)\u001b[0m\u001b[1;33m\u001b[0m\u001b[0m\n\u001b[0;32m     13\u001b[0m \u001b[1;33m\u001b[0m\u001b[0m\n",
      "\u001b[1;31mAttributeError\u001b[0m: module 'tensorflow' has no attribute 'mul'"
     ]
    }
   ],
   "source": [
    "graph = tf.Graph()\n",
    "\n",
    "with graph.as_default():\n",
    "    in_1 = tf.placeholder(tf.float32, shape=[], name=\"input_a\")\n",
    "    in_2 = tf.placeholder(tf.float32, shape=[], name=\"input_b\")\n",
    "    const = tf.constant(3, dtype=tf.float32, name=\"static_value\")\n",
    "\n",
    "    with tf.name_scope(\"Transformation\"):\n",
    "\n",
    "        with tf.name_scope(\"A\"):\n",
    "            A_mul = tf.mul(in_1, const)\n",
    "            A_out = tf.sub(A_mul, in_1)\n",
    "\n",
    "        with tf.name_scope(\"B\"):\n",
    "            B_mul = tf.mul(in_2, const)\n",
    "            B_out = tf.sub(B_mul, in_2)\n",
    "\n",
    "        with tf.name_scope(\"C\"):\n",
    "            C_div = tf.div(A_out, B_out)\n",
    "            C_out = tf.add(C_div, const)\n",
    "\n",
    "        with tf.name_scope(\"D\"):\n",
    "            D_div = tf.div(B_out, A_out)\n",
    "            D_out = tf.add(D_div, const)\n",
    "\n",
    "    out = tf.maximum(C_out, D_out)   \n",
    "\n",
    "writer = tf.summary.FileWriter('./name_scope_1', graph=graph)\n",
    "writer.close()"
   ]
  },
  {
   "cell_type": "code",
   "execution_count": null,
   "metadata": {},
   "outputs": [],
   "source": []
  },
  {
   "cell_type": "code",
   "execution_count": null,
   "metadata": {},
   "outputs": [],
   "source": []
  },
  {
   "cell_type": "code",
   "execution_count": null,
   "metadata": {},
   "outputs": [],
   "source": []
  },
  {
   "cell_type": "markdown",
   "metadata": {},
   "source": [
    "### 7. over exercise"
   ]
  },
  {
   "cell_type": "markdown",
   "metadata": {},
   "source": [
    "下面通过一个综合运用了之前讨论过的所有组件——**Tensor**、**Graph**、**Operation**、**Variable**、**placeholder**、**Session**以及**名称作用域**的练习来结束本章。练习结束后，读者将能够自如地搭建基本的TensorFlow数据流图并在TensorBoard中对其进行研究。"
   ]
  },
  {
   "cell_type": "code",
   "execution_count": null,
   "metadata": {},
   "outputs": [],
   "source": []
  },
  {
   "cell_type": "code",
   "execution_count": null,
   "metadata": {},
   "outputs": [],
   "source": []
  },
  {
   "cell_type": "code",
   "execution_count": null,
   "metadata": {},
   "outputs": [],
   "source": []
  },
  {
   "cell_type": "code",
   "execution_count": null,
   "metadata": {},
   "outputs": [],
   "source": []
  },
  {
   "cell_type": "code",
   "execution_count": null,
   "metadata": {},
   "outputs": [],
   "source": []
  },
  {
   "cell_type": "code",
   "execution_count": null,
   "metadata": {},
   "outputs": [],
   "source": []
  },
  {
   "cell_type": "code",
   "execution_count": null,
   "metadata": {},
   "outputs": [],
   "source": []
  },
  {
   "cell_type": "code",
   "execution_count": null,
   "metadata": {},
   "outputs": [],
   "source": []
  }
 ],
 "metadata": {
  "kernelspec": {
   "display_name": "Python 3",
   "language": "python",
   "name": "python3"
  },
  "language_info": {
   "codemirror_mode": {
    "name": "ipython",
    "version": 3
   },
   "file_extension": ".py",
   "mimetype": "text/x-python",
   "name": "python",
   "nbconvert_exporter": "python",
   "pygments_lexer": "ipython3",
   "version": "3.6.6"
  }
 },
 "nbformat": 4,
 "nbformat_minor": 2
}
