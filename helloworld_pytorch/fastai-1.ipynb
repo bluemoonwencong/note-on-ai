{
 "cells": [
  {
   "cell_type": "code",
   "execution_count": 83,
   "metadata": {},
   "outputs": [],
   "source": [
    "import fastai\n",
    "from fastai import *\n",
    "from fastai.vision import *"
   ]
  },
  {
   "cell_type": "code",
   "execution_count": 84,
   "metadata": {
    "scrolled": true
   },
   "outputs": [],
   "source": [
    "path = untar_data(URLs.MNIST_SAMPLE)"
   ]
  },
  {
   "cell_type": "code",
   "execution_count": 90,
   "metadata": {},
   "outputs": [
    {
     "data": {
      "text/plain": [
       "WindowsPath('C:/Users/bluove/.fastai/data/mnist_sample')"
      ]
     },
     "execution_count": 90,
     "metadata": {},
     "output_type": "execute_result"
    }
   ],
   "source": [
    "path"
   ]
  },
  {
   "cell_type": "code",
   "execution_count": 85,
   "metadata": {},
   "outputs": [],
   "source": [
    "data = ImageDataBunch.from_folder(path)"
   ]
  },
  {
   "cell_type": "code",
   "execution_count": 89,
   "metadata": {},
   "outputs": [
    {
     "data": {
      "text/plain": [
       "ImageDataBunch;\n",
       "Train: LabelList\n",
       "y: CategoryList (12396 items)\n",
       "['3' '3' '3' '3' ... '7' '7' '7' '7']\n",
       "Path: .\n",
       "x: ImageItemList (12396 items)\n",
       "[WindowsPath('C:/Users/bluove/.fastai/data/mnist_sample/train/3/10.png')\n",
       " WindowsPath('C:/Users/bluove/.fastai/data/mnist_sample/train/3/10000.png')\n",
       " WindowsPath('C:/Users/bluove/.fastai/data/mnist_sample/train/3/10011.png')\n",
       " WindowsPath('C:/Users/bluove/.fastai/data/mnist_sample/train/3/10031.png') ...\n",
       " WindowsPath('C:/Users/bluove/.fastai/data/mnist_sample/train/7/9988.png')\n",
       " WindowsPath('C:/Users/bluove/.fastai/data/mnist_sample/train/7/9990.png')\n",
       " WindowsPath('C:/Users/bluove/.fastai/data/mnist_sample/train/7/9992.png')\n",
       " WindowsPath('C:/Users/bluove/.fastai/data/mnist_sample/train/7/9999.png')]\n",
       "Path: C:\\Users\\bluove\\.fastai\\data\\mnist_sample;\n",
       "Valid: LabelList\n",
       "y: CategoryList (2038 items)\n",
       "['3' '3' '3' '3' ... '7' '7' '7' '7']\n",
       "Path: .\n",
       "x: ImageItemList (2038 items)\n",
       "[WindowsPath('C:/Users/bluove/.fastai/data/mnist_sample/valid/3/1020.png')\n",
       " WindowsPath('C:/Users/bluove/.fastai/data/mnist_sample/valid/3/1028.png')\n",
       " WindowsPath('C:/Users/bluove/.fastai/data/mnist_sample/valid/3/1042.png')\n",
       " WindowsPath('C:/Users/bluove/.fastai/data/mnist_sample/valid/3/1062.png') ...\n",
       " WindowsPath('C:/Users/bluove/.fastai/data/mnist_sample/valid/7/9963.png')\n",
       " WindowsPath('C:/Users/bluove/.fastai/data/mnist_sample/valid/7/9968.png')\n",
       " WindowsPath('C:/Users/bluove/.fastai/data/mnist_sample/valid/7/9979.png')\n",
       " WindowsPath('C:/Users/bluove/.fastai/data/mnist_sample/valid/7/9990.png')]\n",
       "Path: C:\\Users\\bluove\\.fastai\\data\\mnist_sample;\n",
       "Test: None"
      ]
     },
     "execution_count": 89,
     "metadata": {},
     "output_type": "execute_result"
    }
   ],
   "source": [
    "data"
   ]
  },
  {
   "cell_type": "code",
   "execution_count": 86,
   "metadata": {},
   "outputs": [],
   "source": [
    "model = simple_cnn((3,16,16,2))"
   ]
  },
  {
   "cell_type": "code",
   "execution_count": 88,
   "metadata": {},
   "outputs": [
    {
     "data": {
      "text/plain": [
       "Sequential(\n",
       "  (0): Sequential(\n",
       "    (0): Conv2d(3, 16, kernel_size=(3, 3), stride=(2, 2), padding=(1, 1), bias=False)\n",
       "    (1): ReLU(inplace)\n",
       "  )\n",
       "  (1): Sequential(\n",
       "    (0): Conv2d(16, 16, kernel_size=(3, 3), stride=(2, 2), padding=(1, 1), bias=False)\n",
       "    (1): ReLU(inplace)\n",
       "  )\n",
       "  (2): Sequential(\n",
       "    (0): Conv2d(16, 2, kernel_size=(3, 3), stride=(2, 2), padding=(1, 1), bias=False)\n",
       "    (1): ReLU(inplace)\n",
       "  )\n",
       "  (3): Sequential(\n",
       "    (0): AdaptiveAvgPool2d(output_size=1)\n",
       "    (1): Lambda()\n",
       "  )\n",
       ")"
      ]
     },
     "execution_count": 88,
     "metadata": {},
     "output_type": "execute_result"
    }
   ],
   "source": [
    "model"
   ]
  },
  {
   "cell_type": "code",
   "execution_count": 108,
   "metadata": {},
   "outputs": [],
   "source": [
    "learn = Learner(data, model)"
   ]
  },
  {
   "cell_type": "code",
   "execution_count": 109,
   "metadata": {},
   "outputs": [
    {
     "data": {
      "text/plain": [
       "Learner(data=ImageDataBunch;\n",
       "Train: LabelList\n",
       "y: CategoryList (12396 items)\n",
       "['3' '3' '3' '3' ... '7' '7' '7' '7']\n",
       "Path: .\n",
       "x: ImageItemList (12396 items)\n",
       "[WindowsPath('C:/Users/bluove/.fastai/data/mnist_sample/train/3/10.png')\n",
       " WindowsPath('C:/Users/bluove/.fastai/data/mnist_sample/train/3/10000.png')\n",
       " WindowsPath('C:/Users/bluove/.fastai/data/mnist_sample/train/3/10011.png')\n",
       " WindowsPath('C:/Users/bluove/.fastai/data/mnist_sample/train/3/10031.png') ...\n",
       " WindowsPath('C:/Users/bluove/.fastai/data/mnist_sample/train/7/9988.png')\n",
       " WindowsPath('C:/Users/bluove/.fastai/data/mnist_sample/train/7/9990.png')\n",
       " WindowsPath('C:/Users/bluove/.fastai/data/mnist_sample/train/7/9992.png')\n",
       " WindowsPath('C:/Users/bluove/.fastai/data/mnist_sample/train/7/9999.png')]\n",
       "Path: C:\\Users\\bluove\\.fastai\\data\\mnist_sample;\n",
       "Valid: LabelList\n",
       "y: CategoryList (2038 items)\n",
       "['3' '3' '3' '3' ... '7' '7' '7' '7']\n",
       "Path: .\n",
       "x: ImageItemList (2038 items)\n",
       "[WindowsPath('C:/Users/bluove/.fastai/data/mnist_sample/valid/3/1020.png')\n",
       " WindowsPath('C:/Users/bluove/.fastai/data/mnist_sample/valid/3/1028.png')\n",
       " WindowsPath('C:/Users/bluove/.fastai/data/mnist_sample/valid/3/1042.png')\n",
       " WindowsPath('C:/Users/bluove/.fastai/data/mnist_sample/valid/3/1062.png') ...\n",
       " WindowsPath('C:/Users/bluove/.fastai/data/mnist_sample/valid/7/9963.png')\n",
       " WindowsPath('C:/Users/bluove/.fastai/data/mnist_sample/valid/7/9968.png')\n",
       " WindowsPath('C:/Users/bluove/.fastai/data/mnist_sample/valid/7/9979.png')\n",
       " WindowsPath('C:/Users/bluove/.fastai/data/mnist_sample/valid/7/9990.png')]\n",
       "Path: C:\\Users\\bluove\\.fastai\\data\\mnist_sample;\n",
       "Test: None, model=Sequential(\n",
       "  (0): Sequential(\n",
       "    (0): Conv2d(3, 16, kernel_size=(3, 3), stride=(2, 2), padding=(1, 1), bias=False)\n",
       "    (1): ReLU(inplace)\n",
       "  )\n",
       "  (1): Sequential(\n",
       "    (0): Conv2d(16, 16, kernel_size=(3, 3), stride=(2, 2), padding=(1, 1), bias=False)\n",
       "    (1): ReLU(inplace)\n",
       "  )\n",
       "  (2): Sequential(\n",
       "    (0): Conv2d(16, 2, kernel_size=(3, 3), stride=(2, 2), padding=(1, 1), bias=False)\n",
       "    (1): ReLU(inplace)\n",
       "  )\n",
       "  (3): Sequential(\n",
       "    (0): AdaptiveAvgPool2d(output_size=1)\n",
       "    (1): Lambda()\n",
       "  )\n",
       "), opt_func=functools.partial(<class 'torch.optim.adam.Adam'>, betas=(0.9, 0.99)), loss_func=<function cross_entropy at 0x0000025B149287B8>, metrics=[], true_wd=True, bn_wd=True, wd=0.01, train_bn=True, path=WindowsPath('C:/Users/bluove/.fastai/data/mnist_sample'), model_dir='models', callback_fns=[<class 'fastai.basic_train.Recorder'>], callbacks=[], layer_groups=[Sequential(\n",
       "  (0): Conv2d(3, 16, kernel_size=(3, 3), stride=(2, 2), padding=(1, 1), bias=False)\n",
       "  (1): ReLU(inplace)\n",
       "  (2): Conv2d(16, 16, kernel_size=(3, 3), stride=(2, 2), padding=(1, 1), bias=False)\n",
       "  (3): ReLU(inplace)\n",
       "  (4): Conv2d(16, 2, kernel_size=(3, 3), stride=(2, 2), padding=(1, 1), bias=False)\n",
       "  (5): ReLU(inplace)\n",
       "  (6): AdaptiveAvgPool2d(output_size=1)\n",
       "  (7): Lambda()\n",
       ")])"
      ]
     },
     "execution_count": 109,
     "metadata": {},
     "output_type": "execute_result"
    }
   ],
   "source": [
    "learn"
   ]
  },
  {
   "cell_type": "code",
   "execution_count": null,
   "metadata": {},
   "outputs": [
    {
     "data": {
      "text/html": [
       "\n",
       "    <div>\n",
       "        <style>\n",
       "        \t/* Turns off some styling */\n",
       "        \tprogress {\n",
       "\n",
       "            \t/* gets rid of default border in Firefox and Opera. */\n",
       "            \tborder: none;\n",
       "\n",
       "            \t/* Needs to be in here for Safari polyfill so background images work as expected. */\n",
       "            \tbackground-size: auto;\n",
       "            }\n",
       "\n",
       "            .progress-bar-interrupted, .progress-bar-interrupted::-webkit-progress-bar {\n",
       "                background: #F44336;\n",
       "            }\n",
       "        </style>\n",
       "      <progress value='0' class='' max='3', style='width:300px; height:20px; vertical-align: middle;'></progress>\n",
       "      0.00% [0/3 00:00<00:00]\n",
       "    </div>\n",
       "    \n",
       "<table style='width:300px; margin-bottom:10px'>\n",
       "  <tr>\n",
       "    <th>epoch</th>\n",
       "    <th>train_loss</th>\n",
       "    <th>valid_loss</th>\n",
       "  </tr>\n",
       "  <tr>\n",
       "\n",
       "  </tr>\n",
       "</table>\n",
       "\n",
       "\n",
       "    <div>\n",
       "        <style>\n",
       "        \t/* Turns off some styling */\n",
       "        \tprogress {\n",
       "\n",
       "            \t/* gets rid of default border in Firefox and Opera. */\n",
       "            \tborder: none;\n",
       "\n",
       "            \t/* Needs to be in here for Safari polyfill so background images work as expected. */\n",
       "            \tbackground-size: auto;\n",
       "            }\n",
       "\n",
       "            .progress-bar-interrupted, .progress-bar-interrupted::-webkit-progress-bar {\n",
       "                background: #F44336;\n",
       "            }\n",
       "        </style>\n",
       "      <progress value='0' class='' max='194', style='width:300px; height:20px; vertical-align: middle;'></progress>\n",
       "      0.00% [0/194 00:00<00:00]\n",
       "    </div>\n",
       "    "
      ],
      "text/plain": [
       "<IPython.core.display.HTML object>"
      ]
     },
     "metadata": {},
     "output_type": "display_data"
    }
   ],
   "source": [
    "learn.fit(3)"
   ]
  },
  {
   "cell_type": "code",
   "execution_count": null,
   "metadata": {},
   "outputs": [],
   "source": [
    "learn.metric`s=[accuracy]\n",
    "learn.fit(10)"
   ]
  },
  {
   "cell_type": "code",
   "execution_count": null,
   "metadata": {},
   "outputs": [],
   "source": []
  },
  {
   "cell_type": "code",
   "execution_count": 5,
   "metadata": {},
   "outputs": [
    {
     "ename": "SyntaxError",
     "evalue": "can't use starred expression here (cell_name, line 5)",
     "output_type": "error",
     "traceback": [
      "\u001b[1;36m  File \u001b[1;32m\"cell_name\"\u001b[1;36m, line \u001b[1;32m5\u001b[0m\n\u001b[1;31mSyntaxError\u001b[0m\u001b[1;31m:\u001b[0m can't use starred expression here\n"
     ]
    }
   ],
   "source": [
    "a = [1,2,3]\n",
    "*a"
   ]
  },
  {
   "cell_type": "code",
   "execution_count": 4,
   "metadata": {},
   "outputs": [
    {
     "ename": "NameError",
     "evalue": "name 'a' is not defined",
     "output_type": "error",
     "traceback": [
      "\u001b[1;31m---------------------------------------------------------------------------\u001b[0m",
      "\u001b[1;31mNameError\u001b[0m                                 Traceback (most recent call last)",
      "\u001b[1;32m<ipython-input-4-3f786850e387>\u001b[0m in \u001b[0;36m<module>\u001b[1;34m\u001b[0m\n\u001b[1;32m----> 1\u001b[1;33m \u001b[0ma\u001b[0m\u001b[1;33m\u001b[0m\u001b[1;33m\u001b[0m\u001b[0m\n\u001b[0m",
      "\u001b[1;31mNameError\u001b[0m: name 'a' is not defined"
     ]
    }
   ],
   "source": [
    "a"
   ]
  },
  {
   "cell_type": "code",
   "execution_count": null,
   "metadata": {},
   "outputs": [],
   "source": []
  },
  {
   "cell_type": "code",
   "execution_count": null,
   "metadata": {},
   "outputs": [],
   "source": []
  },
  {
   "cell_type": "code",
   "execution_count": null,
   "metadata": {},
   "outputs": [],
   "source": []
  },
  {
   "cell_type": "code",
   "execution_count": null,
   "metadata": {},
   "outputs": [],
   "source": []
  }
 ],
 "metadata": {
  "kernelspec": {
   "display_name": "Python 3",
   "language": "python",
   "name": "python3"
  }
 },
 "nbformat": 4,
 "nbformat_minor": 2
}
